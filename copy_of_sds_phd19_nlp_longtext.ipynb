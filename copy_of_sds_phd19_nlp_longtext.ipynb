{
  "nbformat": 4,
  "nbformat_minor": 0,
  "metadata": {
    "colab": {
      "provenance": [],
      "include_colab_link": true
    },
    "kernelspec": {
      "name": "python3",
      "display_name": "Python 3"
    }
  },
  "cells": [
    {
      "cell_type": "markdown",
      "metadata": {
        "id": "view-in-github",
        "colab_type": "text"
      },
      "source": [
        "<a href=\"https://colab.research.google.com/github/igt-cb/sfdx-scanner/blob/main/copy_of_sds_phd19_nlp_longtext.ipynb\" target=\"_parent\"><img src=\"https://colab.research.google.com/assets/colab-badge.svg\" alt=\"Open In Colab\"/></a>"
      ]
    },
    {
      "cell_type": "markdown",
      "metadata": {
        "id": "t3RhsCmBQgGT"
      },
      "source": [
        "Here a nice [cheat-sheet\n",
        "](https://github.com/abhat222/Data-Science--Cheat-Sheet/raw/master/Python/spaCy.pdf)"
      ]
    },
    {
      "cell_type": "code",
      "source": [
        "# @title Interactive Topic Plot { vertical-output: true }\n",
        "# -*- coding: utf-8 -*-\n",
        "!pip install -qq gutenberg-cleaner holoviews bokeh==2.4.0 datashader > /dev/null\n",
        "import itertools\n",
        "import numpy as np\n",
        "from collections import Counter\n",
        "import nltk #this part is needed on colab.\n",
        "nltk.download('punkt')\n",
        "nltk.download('stopwords')\n",
        "#----------------------------------------\n",
        "from nltk.tokenize import sent_tokenize\n",
        "from nltk.tokenize import word_tokenize\n",
        "article = article_text\n",
        "import spacy\n",
        "nlp = spacy.load(\"en_core_web_sm\")\n",
        "nlp.max_length = 5000000\n",
        "# Let's apply the model to the article (as easy as that)\n",
        "article_nlp = nlp(article)\n",
        "# Yes spacy recognises entities in the text out of the box (among many other things)\n",
        "[(ent.text, ent.label_) for ent in article_nlp.ents][:20]\n",
        "import requests as rq\n",
        "ents_from_sents = []\n",
        "ents_from_sents=article_nlp.ents\n",
        "import networkx as nx\n",
        "import matplotlib.pyplot as plt\n",
        "G = nx.Graph()\n",
        "for i in ents_from_sents:\n",
        "  G.add_edges_from(list(itertools.combinations(i,2)))\n",
        "degree_centrality = nx.degree_centrality(G)\n",
        "nx.set_node_attributes(G, degree_centrality, 'degree')\n",
        "perc_filter = np.percentile([v for u,v in degree_centrality.items()], 80)\n",
        "nodes_selected = [x for x,y in degree_centrality.items() if y >= perc_filter]\n",
        "\n",
        "G = G.subgraph(nodes_selected)\n",
        "plt.figure(figsize=(12,12))\n",
        "nx.draw_kamada_kawai(G, with_labels = True, node_size=[v * 100 for v in dict(G.degree).values()])\n"
      ],
      "metadata": {
        "colab": {
          "base_uri": "https://localhost:8080/"
        },
        "id": "ay_MFGI13pxQ",
        "outputId": "addf8f7c-9a09-43d8-bab0-78b65a7476ca"
      },
      "execution_count": null,
      "outputs": [
        {
          "output_type": "stream",
          "name": "stderr",
          "text": [
            "[nltk_data] Downloading package punkt to /root/nltk_data...\n",
            "[nltk_data]   Package punkt is already up-to-date!\n",
            "[nltk_data] Downloading package stopwords to /root/nltk_data...\n",
            "[nltk_data]   Package stopwords is already up-to-date!\n"
          ]
        }
      ]
    },
    {
      "cell_type": "code",
      "source": [
        "#@title Bokeh Interactive\n",
        "\n",
        "import holoviews as hv\n",
        "from holoviews import opts\n",
        "hv.extension('bokeh')\n",
        "from bokeh.plotting import show\n",
        "kwargs = dict(width=800, height=800, xaxis=None, yaxis=None)\n",
        "opts.defaults(opts.Nodes(**kwargs), opts.Graph(**kwargs))\n",
        "G_layout = nx.layout.kamada_kawai_layout(G)\n",
        "g_plot = hv.Graph.from_networkx(G, G_layout).opts(tools=['hover'])\n",
        "labels = hv.Labels(g_plot.nodes, ['x', 'y'], 'index')\n",
        "from holoviews.operation.datashader import datashade, bundle_graph\n",
        "bundled = bundle_graph(g_plot)\n",
        "show(hv.render(bundled * labels.opts(text_font_size='10pt', text_color='white', bgcolor='gray')))"
      ],
      "metadata": {
        "cellView": "form",
        "id": "GvUCu816-FzQ"
      },
      "execution_count": null,
      "outputs": []
    }
  ]
}